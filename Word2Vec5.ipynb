{
 "cells": [
  {
   "cell_type": "code",
   "execution_count": 21,
   "id": "7b5d3d33-dc5d-43ff-a989-99cf59d3c181",
   "metadata": {},
   "outputs": [],
   "source": [
    "import pandas as pd\n",
    "import gensim"
   ]
  },
  {
   "cell_type": "code",
   "execution_count": 22,
   "id": "f26a644d-eb19-41a3-bca9-5aa64107f16f",
   "metadata": {},
   "outputs": [
    {
     "data": {
      "text/html": [
       "<div>\n",
       "<style scoped>\n",
       "    .dataframe tbody tr th:only-of-type {\n",
       "        vertical-align: middle;\n",
       "    }\n",
       "\n",
       "    .dataframe tbody tr th {\n",
       "        vertical-align: top;\n",
       "    }\n",
       "\n",
       "    .dataframe thead th {\n",
       "        text-align: right;\n",
       "    }\n",
       "</style>\n",
       "<table border=\"1\" class=\"dataframe\">\n",
       "  <thead>\n",
       "    <tr style=\"text-align: right;\">\n",
       "      <th></th>\n",
       "      <th>Title</th>\n",
       "      <th>Review</th>\n",
       "      <th>Cons_rating</th>\n",
       "      <th>Cloth_class</th>\n",
       "      <th>Materials</th>\n",
       "      <th>Construction</th>\n",
       "      <th>Color</th>\n",
       "      <th>Finishing</th>\n",
       "      <th>Durability</th>\n",
       "    </tr>\n",
       "  </thead>\n",
       "  <tbody>\n",
       "    <tr>\n",
       "      <th>0</th>\n",
       "      <td>NaN</td>\n",
       "      <td>Absolutely wonderful - silky and sexy and comf...</td>\n",
       "      <td>4.0</td>\n",
       "      <td>Intimates</td>\n",
       "      <td>0.0</td>\n",
       "      <td>0.0</td>\n",
       "      <td>0.0</td>\n",
       "      <td>1.0</td>\n",
       "      <td>0.0</td>\n",
       "    </tr>\n",
       "    <tr>\n",
       "      <th>1</th>\n",
       "      <td>NaN</td>\n",
       "      <td>Love this dress!  it's sooo pretty.  i happene...</td>\n",
       "      <td>5.0</td>\n",
       "      <td>Dresses</td>\n",
       "      <td>0.0</td>\n",
       "      <td>1.0</td>\n",
       "      <td>0.0</td>\n",
       "      <td>0.0</td>\n",
       "      <td>0.0</td>\n",
       "    </tr>\n",
       "    <tr>\n",
       "      <th>2</th>\n",
       "      <td>Some major design flaws</td>\n",
       "      <td>I had such high hopes for this dress and reall...</td>\n",
       "      <td>3.0</td>\n",
       "      <td>Dresses</td>\n",
       "      <td>0.0</td>\n",
       "      <td>0.0</td>\n",
       "      <td>0.0</td>\n",
       "      <td>1.0</td>\n",
       "      <td>0.0</td>\n",
       "    </tr>\n",
       "    <tr>\n",
       "      <th>3</th>\n",
       "      <td>My favorite buy!</td>\n",
       "      <td>I love, love, love this jumpsuit. it's fun, fl...</td>\n",
       "      <td>5.0</td>\n",
       "      <td>Pants</td>\n",
       "      <td>0.0</td>\n",
       "      <td>0.0</td>\n",
       "      <td>0.0</td>\n",
       "      <td>0.0</td>\n",
       "      <td>0.0</td>\n",
       "    </tr>\n",
       "    <tr>\n",
       "      <th>4</th>\n",
       "      <td>Flattering shirt</td>\n",
       "      <td>This shirt is very flattering to all due to th...</td>\n",
       "      <td>5.0</td>\n",
       "      <td>Blouses</td>\n",
       "      <td>0.0</td>\n",
       "      <td>1.0</td>\n",
       "      <td>0.0</td>\n",
       "      <td>0.0</td>\n",
       "      <td>0.0</td>\n",
       "    </tr>\n",
       "  </tbody>\n",
       "</table>\n",
       "</div>"
      ],
      "text/plain": [
       "                     Title                                             Review  \\\n",
       "0                      NaN  Absolutely wonderful - silky and sexy and comf...   \n",
       "1                      NaN  Love this dress!  it's sooo pretty.  i happene...   \n",
       "2  Some major design flaws  I had such high hopes for this dress and reall...   \n",
       "3         My favorite buy!  I love, love, love this jumpsuit. it's fun, fl...   \n",
       "4         Flattering shirt  This shirt is very flattering to all due to th...   \n",
       "\n",
       "   Cons_rating Cloth_class  Materials  Construction  Color  Finishing  \\\n",
       "0          4.0   Intimates        0.0           0.0    0.0        1.0   \n",
       "1          5.0     Dresses        0.0           1.0    0.0        0.0   \n",
       "2          3.0     Dresses        0.0           0.0    0.0        1.0   \n",
       "3          5.0       Pants        0.0           0.0    0.0        0.0   \n",
       "4          5.0     Blouses        0.0           1.0    0.0        0.0   \n",
       "\n",
       "   Durability  \n",
       "0         0.0  \n",
       "1         0.0  \n",
       "2         0.0  \n",
       "3         0.0  \n",
       "4         0.0  "
      ]
     },
     "execution_count": 22,
     "metadata": {},
     "output_type": "execute_result"
    }
   ],
   "source": [
    "df=pd.read_csv('data_amazon.xlsx - Sheet1.csv')\n",
    "df.head()"
   ]
  },
  {
   "cell_type": "code",
   "execution_count": 23,
   "id": "789f05d6-5990-4a93-969b-48ac9b51fc04",
   "metadata": {},
   "outputs": [
    {
     "data": {
      "text/plain": [
       "(49338, 9)"
      ]
     },
     "execution_count": 23,
     "metadata": {},
     "output_type": "execute_result"
    }
   ],
   "source": [
    "df.shape"
   ]
  },
  {
   "cell_type": "code",
   "execution_count": 24,
   "id": "652e816c-b7b4-454f-b13b-b95dbaac22a2",
   "metadata": {},
   "outputs": [
    {
     "data": {
      "text/plain": [
       "0        Absolutely wonderful - silky and sexy and comf...\n",
       "1        Love this dress!  it's sooo pretty.  i happene...\n",
       "2        I had such high hopes for this dress and reall...\n",
       "3        I love, love, love this jumpsuit. it's fun, fl...\n",
       "4        This shirt is very flattering to all due to th...\n",
       "                               ...                        \n",
       "49333    Loved the color!!!  Dress fit great and I got ...\n",
       "49334    This dress looked great and I loved the materi...\n",
       "49335    Wanted this dress to work it didn't. It is ver...\n",
       "49336    No complaints othe than the zipper gets stuck ...\n",
       "49337    The fabric was really nice, I'm a L and it fit...\n",
       "Name: Review, Length: 49338, dtype: object"
      ]
     },
     "execution_count": 24,
     "metadata": {},
     "output_type": "execute_result"
    }
   ],
   "source": [
    "df['Review']"
   ]
  },
  {
   "cell_type": "code",
   "execution_count": 25,
   "id": "9b3902d9-fb70-4b7b-b49d-7d7b03e70eb6",
   "metadata": {},
   "outputs": [
    {
     "data": {
      "text/plain": [
       "829"
      ]
     },
     "execution_count": 25,
     "metadata": {},
     "output_type": "execute_result"
    }
   ],
   "source": [
    "df['Review'].isnull().sum()"
   ]
  },
  {
   "cell_type": "code",
   "execution_count": 26,
   "id": "5f048f6d-594a-4c7a-9a33-d09e27de4802",
   "metadata": {},
   "outputs": [],
   "source": [
    "df=df.dropna(subset='Review')"
   ]
  },
  {
   "cell_type": "code",
   "execution_count": 27,
   "id": "ff9247ab-4f98-409d-bb8f-c8b4c0a97c43",
   "metadata": {},
   "outputs": [
    {
     "data": {
      "text/plain": [
       "(48509, 9)"
      ]
     },
     "execution_count": 27,
     "metadata": {},
     "output_type": "execute_result"
    }
   ],
   "source": [
    "df.shape"
   ]
  },
  {
   "cell_type": "code",
   "execution_count": 28,
   "id": "9da6332b-faa6-4b10-8214-1599b81c77f2",
   "metadata": {},
   "outputs": [
    {
     "data": {
      "text/plain": [
       "0"
      ]
     },
     "execution_count": 28,
     "metadata": {},
     "output_type": "execute_result"
    }
   ],
   "source": [
    "df['Review'].isnull().sum()"
   ]
  },
  {
   "cell_type": "code",
   "execution_count": 29,
   "id": "7bb31950-d813-4b89-925b-0dcdbc616455",
   "metadata": {},
   "outputs": [
    {
     "data": {
      "text/plain": [
       "'Love this dress!  it\\'s sooo pretty.  i happened to find it in a store, and i\\'m glad i did bc i never would have ordered it online bc it\\'s petite.  i bought a petite and am 5\\'8\".  i love the length on me- hits just a little below the knee.  would definitely be a true midi on someone who is truly petite.'"
      ]
     },
     "execution_count": 29,
     "metadata": {},
     "output_type": "execute_result"
    }
   ],
   "source": [
    "df['Review'][1]"
   ]
  },
  {
   "cell_type": "code",
   "execution_count": 30,
   "id": "0c189353-fd4a-42bb-9f9b-8c2d692499a3",
   "metadata": {},
   "outputs": [
    {
     "data": {
      "text/plain": [
       "'I had such high hopes for this dress and really wanted it to work for me. i initially ordered the petite small (my usual size) but i found this to be outrageously small. so small in fact that i could not zip it up! i reordered it in petite medium, which was just ok. overall, the top half was comfortable and fit nicely, but the bottom half had a very tight under layer and several somewhat cheap (net) over layers. imo, a major design flaw was the net over layer sewn directly into the zipper - it c'"
      ]
     },
     "execution_count": 30,
     "metadata": {},
     "output_type": "execute_result"
    }
   ],
   "source": [
    "df['Review'][2]"
   ]
  },
  {
   "cell_type": "code",
   "execution_count": 31,
   "id": "d876801c-98dd-4a9d-aef0-b06daf6267bf",
   "metadata": {},
   "outputs": [
    {
     "data": {
      "text/plain": [
       "0        [absolutely, wonderful, silky, and, sexy, and,...\n",
       "1        [love, this, dress, it, sooo, pretty, happened...\n",
       "2        [had, such, high, hopes, for, this, dress, and...\n",
       "3        [love, love, love, this, jumpsuit, it, fun, fl...\n",
       "4        [this, shirt, is, very, flattering, to, all, d...\n",
       "                               ...                        \n",
       "49333    [loved, the, color, dress, fit, great, and, go...\n",
       "49334    [this, dress, looked, great, and, loved, the, ...\n",
       "49335    [wanted, this, dress, to, work, it, didn, it, ...\n",
       "49336    [no, complaints, othe, than, the, zipper, gets...\n",
       "49337    [the, fabric, was, really, nice, and, it, fit,...\n",
       "Name: Review, Length: 48509, dtype: object"
      ]
     },
     "execution_count": 31,
     "metadata": {},
     "output_type": "execute_result"
    }
   ],
   "source": [
    "reviews=df['Review'].apply(gensim.utils.simple_preprocess)\n",
    "reviews"
   ]
  },
  {
   "cell_type": "code",
   "execution_count": 32,
   "id": "24dbb007-650a-410c-a189-c904e2b04930",
   "metadata": {},
   "outputs": [
    {
     "data": {
      "text/plain": [
       "['love',\n",
       " 'this',\n",
       " 'dress',\n",
       " 'it',\n",
       " 'sooo',\n",
       " 'pretty',\n",
       " 'happened',\n",
       " 'to',\n",
       " 'find',\n",
       " 'it',\n",
       " 'in',\n",
       " 'store',\n",
       " 'and',\n",
       " 'glad',\n",
       " 'did',\n",
       " 'bc',\n",
       " 'never',\n",
       " 'would',\n",
       " 'have',\n",
       " 'ordered',\n",
       " 'it',\n",
       " 'online',\n",
       " 'bc',\n",
       " 'it',\n",
       " 'petite',\n",
       " 'bought',\n",
       " 'petite',\n",
       " 'and',\n",
       " 'am',\n",
       " 'love',\n",
       " 'the',\n",
       " 'length',\n",
       " 'on',\n",
       " 'me',\n",
       " 'hits',\n",
       " 'just',\n",
       " 'little',\n",
       " 'below',\n",
       " 'the',\n",
       " 'knee',\n",
       " 'would',\n",
       " 'definitely',\n",
       " 'be',\n",
       " 'true',\n",
       " 'midi',\n",
       " 'on',\n",
       " 'someone',\n",
       " 'who',\n",
       " 'is',\n",
       " 'truly',\n",
       " 'petite']"
      ]
     },
     "execution_count": 32,
     "metadata": {},
     "output_type": "execute_result"
    }
   ],
   "source": [
    "reviews[1]"
   ]
  },
  {
   "cell_type": "code",
   "execution_count": 33,
   "id": "d738fe54-812d-45fb-8e95-bf89361e2885",
   "metadata": {},
   "outputs": [
    {
     "data": {
      "text/plain": [
       "['had',\n",
       " 'such',\n",
       " 'high',\n",
       " 'hopes',\n",
       " 'for',\n",
       " 'this',\n",
       " 'dress',\n",
       " 'and',\n",
       " 'really',\n",
       " 'wanted',\n",
       " 'it',\n",
       " 'to',\n",
       " 'work',\n",
       " 'for',\n",
       " 'me',\n",
       " 'initially',\n",
       " 'ordered',\n",
       " 'the',\n",
       " 'petite',\n",
       " 'small',\n",
       " 'my',\n",
       " 'usual',\n",
       " 'size',\n",
       " 'but',\n",
       " 'found',\n",
       " 'this',\n",
       " 'to',\n",
       " 'be',\n",
       " 'outrageously',\n",
       " 'small',\n",
       " 'so',\n",
       " 'small',\n",
       " 'in',\n",
       " 'fact',\n",
       " 'that',\n",
       " 'could',\n",
       " 'not',\n",
       " 'zip',\n",
       " 'it',\n",
       " 'up',\n",
       " 'reordered',\n",
       " 'it',\n",
       " 'in',\n",
       " 'petite',\n",
       " 'medium',\n",
       " 'which',\n",
       " 'was',\n",
       " 'just',\n",
       " 'ok',\n",
       " 'overall',\n",
       " 'the',\n",
       " 'top',\n",
       " 'half',\n",
       " 'was',\n",
       " 'comfortable',\n",
       " 'and',\n",
       " 'fit',\n",
       " 'nicely',\n",
       " 'but',\n",
       " 'the',\n",
       " 'bottom',\n",
       " 'half',\n",
       " 'had',\n",
       " 'very',\n",
       " 'tight',\n",
       " 'under',\n",
       " 'layer',\n",
       " 'and',\n",
       " 'several',\n",
       " 'somewhat',\n",
       " 'cheap',\n",
       " 'net',\n",
       " 'over',\n",
       " 'layers',\n",
       " 'imo',\n",
       " 'major',\n",
       " 'design',\n",
       " 'flaw',\n",
       " 'was',\n",
       " 'the',\n",
       " 'net',\n",
       " 'over',\n",
       " 'layer',\n",
       " 'sewn',\n",
       " 'directly',\n",
       " 'into',\n",
       " 'the',\n",
       " 'zipper',\n",
       " 'it']"
      ]
     },
     "execution_count": 33,
     "metadata": {},
     "output_type": "execute_result"
    }
   ],
   "source": [
    "reviews[2]"
   ]
  },
  {
   "cell_type": "code",
   "execution_count": 34,
   "id": "a40bd2db-b806-4750-9c47-f03c0d3bda9e",
   "metadata": {},
   "outputs": [],
   "source": [
    "model=gensim.models.Word2Vec(\n",
    "    window=15,\n",
    "    min_count=2,\n",
    "    workers=4\n",
    ")"
   ]
  },
  {
   "cell_type": "code",
   "execution_count": 36,
   "id": "98058055-b9f5-4ac2-b5d7-86cdf7e42797",
   "metadata": {},
   "outputs": [],
   "source": [
    "model.build_vocab(reviews,progress_per=1000)"
   ]
  },
  {
   "cell_type": "code",
   "execution_count": 39,
   "id": "6d503789-6324-4549-94c5-80c3c20c94e1",
   "metadata": {},
   "outputs": [
    {
     "data": {
      "text/plain": [
       "(40046563, 56298660)"
      ]
     },
     "execution_count": 39,
     "metadata": {},
     "output_type": "execute_result"
    }
   ],
   "source": [
    "model.train(reviews,total_examples=48509,epochs=30)"
   ]
  },
  {
   "cell_type": "code",
   "execution_count": 51,
   "id": "ff23ef39-c69a-41f0-b853-ea6d6c6bcab9",
   "metadata": {},
   "outputs": [],
   "source": [
    "model.save('./3D Objects/word2vec-amazon-clothing-product.model')"
   ]
  },
  {
   "cell_type": "code",
   "execution_count": 53,
   "id": "9d3cc3dc-c25a-40bd-a147-5bf0ac4aff00",
   "metadata": {},
   "outputs": [
    {
     "data": {
      "text/plain": [
       "[('skirt', 0.6311002969741821),\n",
       " ('top', 0.6018435955047607),\n",
       " ('jumpsuit', 0.5615494847297668),\n",
       " ('romper', 0.5452024340629578),\n",
       " ('wedding', 0.5180000066757202),\n",
       " ('blouse', 0.5046321749687195),\n",
       " ('swimsuit', 0.47591570019721985),\n",
       " ('attending', 0.47265610098838806),\n",
       " ('it', 0.4594283103942871),\n",
       " ('suit', 0.4500231444835663)]"
      ]
     },
     "execution_count": 53,
     "metadata": {},
     "output_type": "execute_result"
    }
   ],
   "source": [
    "model.wv.most_similar('dress')"
   ]
  },
  {
   "cell_type": "code",
   "execution_count": 54,
   "id": "bad2e0a3-24c6-4150-b57c-d9f6984052d0",
   "metadata": {},
   "outputs": [
    {
     "data": {
      "text/plain": [
       "[('mall', 0.5647348761558533),\n",
       " ('shopping', 0.5607631802558899),\n",
       " ('stores', 0.5476654171943665),\n",
       " ('department', 0.48793795704841614),\n",
       " ('retired', 0.4848341643810272),\n",
       " ('retailer', 0.48083198070526123),\n",
       " ('maxx', 0.4590706527233124),\n",
       " ('prices', 0.45618385076522827),\n",
       " ('paris', 0.45563074946403503),\n",
       " ('hd', 0.4431626498699188)]"
      ]
     },
     "execution_count": 54,
     "metadata": {},
     "output_type": "execute_result"
    }
   ],
   "source": [
    "model.wv.most_similar('shop')"
   ]
  },
  {
   "cell_type": "code",
   "execution_count": 56,
   "id": "6b5c8fa5-023a-409e-9375-35afef263cb3",
   "metadata": {},
   "outputs": [
    {
     "data": {
      "text/plain": [
       "[('ideal', 0.4518163800239563),\n",
       " ('visiting', 0.4460693299770355),\n",
       " ('office', 0.4413045644760132),\n",
       " ('formal', 0.4055783748626709),\n",
       " ('appropriate', 0.3934186100959778),\n",
       " ('business', 0.368033766746521),\n",
       " ('pool', 0.36563917994499207),\n",
       " ('brunch', 0.36447659134864807),\n",
       " ('exercise', 0.3626760244369507),\n",
       " ('shining', 0.3623094856739044)]"
      ]
     },
     "execution_count": 56,
     "metadata": {},
     "output_type": "execute_result"
    }
   ],
   "source": [
    "model.wv.most_similar('suitable')"
   ]
  },
  {
   "cell_type": "code",
   "execution_count": 57,
   "id": "b24991c3-608f-4eb2-901e-7b6f192d24c7",
   "metadata": {},
   "outputs": [
    {
     "data": {
      "text/plain": [
       "0.17037165"
      ]
     },
     "execution_count": 57,
     "metadata": {},
     "output_type": "execute_result"
    }
   ],
   "source": [
    "model.wv.similarity(w1='store',w2='buy')"
   ]
  },
  {
   "cell_type": "code",
   "execution_count": 58,
   "id": "74154a65-3143-4ac2-b0ed-57f34c607c17",
   "metadata": {},
   "outputs": [
    {
     "data": {
      "text/plain": [
       "-0.031530444"
      ]
     },
     "execution_count": 58,
     "metadata": {},
     "output_type": "execute_result"
    }
   ],
   "source": [
    "model.wv.similarity(w1='water',w2='shirt')"
   ]
  },
  {
   "cell_type": "code",
   "execution_count": 59,
   "id": "c34ffaba-6889-4c02-a5e8-ced46652bde5",
   "metadata": {},
   "outputs": [
    {
     "data": {
      "text/plain": [
       "0.49573043"
      ]
     },
     "execution_count": 59,
     "metadata": {},
     "output_type": "execute_result"
    }
   ],
   "source": [
    "model.wv.similarity(w1='cheap',w2='expensive')"
   ]
  }
 ],
 "metadata": {
  "kernelspec": {
   "display_name": "Python 3 (ipykernel)",
   "language": "python",
   "name": "python3"
  },
  "language_info": {
   "codemirror_mode": {
    "name": "ipython",
    "version": 3
   },
   "file_extension": ".py",
   "mimetype": "text/x-python",
   "name": "python",
   "nbconvert_exporter": "python",
   "pygments_lexer": "ipython3",
   "version": "3.10.5"
  }
 },
 "nbformat": 4,
 "nbformat_minor": 5
}
